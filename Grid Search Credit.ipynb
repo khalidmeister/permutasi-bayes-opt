{
 "cells": [
  {
   "cell_type": "code",
   "execution_count": 1,
   "id": "ad6fef0c",
   "metadata": {
    "ExecuteTime": {
     "end_time": "2021-05-12T10:49:43.519767Z",
     "start_time": "2021-05-12T10:49:43.507771Z"
    }
   },
   "outputs": [],
   "source": [
    "import numpy as np\n",
    "import pandas as pd\n",
    "from sklearn.model_selection import GridSearchCV, RandomizedSearchCV\n",
    "from sklearn.model_selection import train_test_split\n",
    "from sklearn.ensemble import GradientBoostingClassifier\n",
    "import time"
   ]
  },
  {
   "cell_type": "code",
   "execution_count": 2,
   "id": "4cd8af7b",
   "metadata": {
    "ExecuteTime": {
     "end_time": "2021-05-12T10:46:21.020349Z",
     "start_time": "2021-05-12T10:46:18.849350Z"
    }
   },
   "outputs": [],
   "source": [
    "data=pd.read_csv('Creditcard.csv')"
   ]
  },
  {
   "cell_type": "code",
   "execution_count": 3,
   "id": "f18f9693",
   "metadata": {
    "ExecuteTime": {
     "end_time": "2021-05-12T10:46:21.521313Z",
     "start_time": "2021-05-12T10:46:21.476928Z"
    }
   },
   "outputs": [],
   "source": [
    "X,Y=data.iloc[:,:-1],data.iloc[:,-1]"
   ]
  },
  {
   "cell_type": "code",
   "execution_count": 4,
   "id": "4c512285",
   "metadata": {
    "ExecuteTime": {
     "end_time": "2021-05-12T10:46:23.247043Z",
     "start_time": "2021-05-12T10:46:23.155045Z"
    }
   },
   "outputs": [],
   "source": [
    "X_train,X_test,Y_train,Y_test=train_test_split(X,Y,test_size=0.2,random_state=0)"
   ]
  },
  {
   "cell_type": "code",
   "execution_count": 5,
   "id": "4a3affca",
   "metadata": {
    "ExecuteTime": {
     "end_time": "2021-05-12T10:57:43.528991Z",
     "start_time": "2021-05-12T10:57:43.519994Z"
    }
   },
   "outputs": [],
   "source": [
    "learning_rate=[x for x in np.linspace(start=0.0001,stop=0.1,num=3)]\n",
    "n_estimators=[100, 200, 400, 600, 800, 1000, 1500, 2000, 2048]\n",
    "params={'learning_rate':learning_rate,'max_depth':[1,2,3],'n_estimators':n_estimators}\n",
    "grid=GridSearchCV(GradientBoostingClassifier(),param_grid=params,cv=2,n_jobs=1,scoring='recall',verbose=2)\n",
    "random=RandomizedSearchCV(GradientBoostingClassifier(),param_distributions=params,cv=2,scoring='recall',verbose=2,n_iter=20)"
   ]
  },
  {
   "cell_type": "code",
   "execution_count": 6,
   "id": "fa30434a",
   "metadata": {
    "ExecuteTime": {
     "end_time": "2021-05-12T10:48:27.813339Z",
     "start_time": "2021-05-12T10:48:09.692338Z"
    }
   },
   "outputs": [
    {
     "name": "stdout",
     "output_type": "stream",
     "text": [
      "Fitting 2 folds for each of 81 candidates, totalling 162 fits\n",
      "[CV] learning_rate=0.0001, max_depth=1, n_estimators=100 .............\n"
     ]
    },
    {
     "name": "stderr",
     "output_type": "stream",
     "text": [
      "[Parallel(n_jobs=1)]: Using backend SequentialBackend with 1 concurrent workers.\n"
     ]
    },
    {
     "name": "stdout",
     "output_type": "stream",
     "text": [
      "[CV]  learning_rate=0.0001, max_depth=1, n_estimators=100, total= 1.0min\n",
      "[CV] learning_rate=0.0001, max_depth=1, n_estimators=100 .............\n"
     ]
    },
    {
     "name": "stderr",
     "output_type": "stream",
     "text": [
      "[Parallel(n_jobs=1)]: Done   1 out of   1 | elapsed:  1.0min remaining:    0.0s\n"
     ]
    },
    {
     "name": "stdout",
     "output_type": "stream",
     "text": [
      "[CV]  learning_rate=0.0001, max_depth=1, n_estimators=100, total=  49.1s\n",
      "[CV] learning_rate=0.0001, max_depth=1, n_estimators=200 .............\n",
      "[CV]  learning_rate=0.0001, max_depth=1, n_estimators=200, total= 1.5min\n",
      "[CV] learning_rate=0.0001, max_depth=1, n_estimators=200 .............\n",
      "[CV]  learning_rate=0.0001, max_depth=1, n_estimators=200, total= 1.5min\n",
      "[CV] learning_rate=0.0001, max_depth=1, n_estimators=400 .............\n",
      "[CV]  learning_rate=0.0001, max_depth=1, n_estimators=400, total= 3.1min\n",
      "[CV] learning_rate=0.0001, max_depth=1, n_estimators=400 .............\n",
      "[CV]  learning_rate=0.0001, max_depth=1, n_estimators=400, total= 3.2min\n",
      "[CV] learning_rate=0.0001, max_depth=1, n_estimators=600 .............\n",
      "[CV]  learning_rate=0.0001, max_depth=1, n_estimators=600, total= 4.9min\n",
      "[CV] learning_rate=0.0001, max_depth=1, n_estimators=600 .............\n",
      "[CV]  learning_rate=0.0001, max_depth=1, n_estimators=600, total= 4.8min\n",
      "[CV] learning_rate=0.0001, max_depth=1, n_estimators=800 .............\n",
      "[CV]  learning_rate=0.0001, max_depth=1, n_estimators=800, total= 6.4min\n",
      "[CV] learning_rate=0.0001, max_depth=1, n_estimators=800 .............\n",
      "[CV]  learning_rate=0.0001, max_depth=1, n_estimators=800, total= 6.5min\n",
      "[CV] learning_rate=0.0001, max_depth=1, n_estimators=1000 ............\n",
      "[CV]  learning_rate=0.0001, max_depth=1, n_estimators=1000, total= 8.1min\n",
      "[CV] learning_rate=0.0001, max_depth=1, n_estimators=1000 ............\n",
      "[CV]  learning_rate=0.0001, max_depth=1, n_estimators=1000, total= 8.1min\n",
      "[CV] learning_rate=0.0001, max_depth=1, n_estimators=1500 ............\n",
      "[CV]  learning_rate=0.0001, max_depth=1, n_estimators=1500, total=12.1min\n",
      "[CV] learning_rate=0.0001, max_depth=1, n_estimators=1500 ............\n",
      "[CV]  learning_rate=0.0001, max_depth=1, n_estimators=1500, total=11.8min\n",
      "[CV] learning_rate=0.0001, max_depth=1, n_estimators=2000 ............\n",
      "[CV]  learning_rate=0.0001, max_depth=1, n_estimators=2000, total=15.8min\n",
      "[CV] learning_rate=0.0001, max_depth=1, n_estimators=2000 ............\n",
      "[CV]  learning_rate=0.0001, max_depth=1, n_estimators=2000, total=15.8min\n",
      "[CV] learning_rate=0.0001, max_depth=1, n_estimators=2048 ............\n",
      "[CV]  learning_rate=0.0001, max_depth=1, n_estimators=2048, total=16.1min\n",
      "[CV] learning_rate=0.0001, max_depth=1, n_estimators=2048 ............\n",
      "[CV]  learning_rate=0.0001, max_depth=1, n_estimators=2048, total=16.1min\n",
      "[CV] learning_rate=0.0001, max_depth=2, n_estimators=100 .............\n",
      "[CV]  learning_rate=0.0001, max_depth=2, n_estimators=100, total= 1.6min\n",
      "[CV] learning_rate=0.0001, max_depth=2, n_estimators=100 .............\n",
      "[CV]  learning_rate=0.0001, max_depth=2, n_estimators=100, total= 1.6min\n",
      "[CV] learning_rate=0.0001, max_depth=2, n_estimators=200 .............\n",
      "[CV]  learning_rate=0.0001, max_depth=2, n_estimators=200, total= 3.2min\n",
      "[CV] learning_rate=0.0001, max_depth=2, n_estimators=200 .............\n",
      "[CV]  learning_rate=0.0001, max_depth=2, n_estimators=200, total= 3.2min\n",
      "[CV] learning_rate=0.0001, max_depth=2, n_estimators=400 .............\n",
      "[CV]  learning_rate=0.0001, max_depth=2, n_estimators=400, total= 6.3min\n",
      "[CV] learning_rate=0.0001, max_depth=2, n_estimators=400 .............\n",
      "[CV]  learning_rate=0.0001, max_depth=2, n_estimators=400, total= 6.3min\n",
      "[CV] learning_rate=0.0001, max_depth=2, n_estimators=600 .............\n",
      "[CV]  learning_rate=0.0001, max_depth=2, n_estimators=600, total= 9.4min\n",
      "[CV] learning_rate=0.0001, max_depth=2, n_estimators=600 .............\n",
      "[CV]  learning_rate=0.0001, max_depth=2, n_estimators=600, total= 9.5min\n",
      "[CV] learning_rate=0.0001, max_depth=2, n_estimators=800 .............\n",
      "[CV]  learning_rate=0.0001, max_depth=2, n_estimators=800, total=12.4min\n",
      "[CV] learning_rate=0.0001, max_depth=2, n_estimators=800 .............\n",
      "[CV]  learning_rate=0.0001, max_depth=2, n_estimators=800, total=12.5min\n",
      "[CV] learning_rate=0.0001, max_depth=2, n_estimators=1000 ............\n",
      "[CV]  learning_rate=0.0001, max_depth=2, n_estimators=1000, total=15.7min\n",
      "[CV] learning_rate=0.0001, max_depth=2, n_estimators=1000 ............\n",
      "[CV]  learning_rate=0.0001, max_depth=2, n_estimators=1000, total=15.7min\n",
      "[CV] learning_rate=0.0001, max_depth=2, n_estimators=1500 ............\n",
      "[CV]  learning_rate=0.0001, max_depth=2, n_estimators=1500, total=23.4min\n",
      "[CV] learning_rate=0.0001, max_depth=2, n_estimators=1500 ............\n",
      "[CV]  learning_rate=0.0001, max_depth=2, n_estimators=1500, total=23.3min\n",
      "[CV] learning_rate=0.0001, max_depth=2, n_estimators=2000 ............\n",
      "[CV]  learning_rate=0.0001, max_depth=2, n_estimators=2000, total=31.1min\n",
      "[CV] learning_rate=0.0001, max_depth=2, n_estimators=2000 ............\n",
      "[CV]  learning_rate=0.0001, max_depth=2, n_estimators=2000, total=31.1min\n",
      "[CV] learning_rate=0.0001, max_depth=2, n_estimators=2048 ............\n",
      "[CV]  learning_rate=0.0001, max_depth=2, n_estimators=2048, total=31.8min\n",
      "[CV] learning_rate=0.0001, max_depth=2, n_estimators=2048 ............\n",
      "[CV]  learning_rate=0.0001, max_depth=2, n_estimators=2048, total=31.9min\n",
      "[CV] learning_rate=0.0001, max_depth=3, n_estimators=100 .............\n",
      "[CV]  learning_rate=0.0001, max_depth=3, n_estimators=100, total= 2.3min\n",
      "[CV] learning_rate=0.0001, max_depth=3, n_estimators=100 .............\n",
      "[CV]  learning_rate=0.0001, max_depth=3, n_estimators=100, total= 2.4min\n",
      "[CV] learning_rate=0.0001, max_depth=3, n_estimators=200 .............\n",
      "[CV]  learning_rate=0.0001, max_depth=3, n_estimators=200, total= 4.7min\n",
      "[CV] learning_rate=0.0001, max_depth=3, n_estimators=200 .............\n",
      "[CV]  learning_rate=0.0001, max_depth=3, n_estimators=200, total= 4.7min\n",
      "[CV] learning_rate=0.0001, max_depth=3, n_estimators=400 .............\n",
      "[CV]  learning_rate=0.0001, max_depth=3, n_estimators=400, total= 9.3min\n",
      "[CV] learning_rate=0.0001, max_depth=3, n_estimators=400 .............\n",
      "[CV]  learning_rate=0.0001, max_depth=3, n_estimators=400, total= 9.4min\n",
      "[CV] learning_rate=0.0001, max_depth=3, n_estimators=600 .............\n",
      "[CV]  learning_rate=0.0001, max_depth=3, n_estimators=600, total=14.2min\n",
      "[CV] learning_rate=0.0001, max_depth=3, n_estimators=600 .............\n",
      "[CV]  learning_rate=0.0001, max_depth=3, n_estimators=600, total=14.2min\n",
      "[CV] learning_rate=0.0001, max_depth=3, n_estimators=800 .............\n",
      "[CV]  learning_rate=0.0001, max_depth=3, n_estimators=800, total=18.6min\n",
      "[CV] learning_rate=0.0001, max_depth=3, n_estimators=800 .............\n",
      "[CV]  learning_rate=0.0001, max_depth=3, n_estimators=800, total=19.2min\n",
      "[CV] learning_rate=0.0001, max_depth=3, n_estimators=1000 ............\n",
      "[CV]  learning_rate=0.0001, max_depth=3, n_estimators=1000, total=23.7min\n",
      "[CV] learning_rate=0.0001, max_depth=3, n_estimators=1000 ............\n",
      "[CV]  learning_rate=0.0001, max_depth=3, n_estimators=1000, total=25.1min\n",
      "[CV] learning_rate=0.0001, max_depth=3, n_estimators=1500 ............\n",
      "[CV]  learning_rate=0.0001, max_depth=3, n_estimators=1500, total=43.4min\n",
      "[CV] learning_rate=0.0001, max_depth=3, n_estimators=1500 ............\n",
      "[CV]  learning_rate=0.0001, max_depth=3, n_estimators=1500, total=46.6min\n",
      "[CV] learning_rate=0.0001, max_depth=3, n_estimators=2000 ............\n",
      "[CV]  learning_rate=0.0001, max_depth=3, n_estimators=2000, total=57.3min\n",
      "[CV] learning_rate=0.0001, max_depth=3, n_estimators=2000 ............\n",
      "[CV]  learning_rate=0.0001, max_depth=3, n_estimators=2000, total=46.8min\n",
      "[CV] learning_rate=0.0001, max_depth=3, n_estimators=2048 ............\n",
      "[CV]  learning_rate=0.0001, max_depth=3, n_estimators=2048, total=57.1min\n",
      "[CV] learning_rate=0.0001, max_depth=3, n_estimators=2048 ............\n",
      "[CV]  learning_rate=0.0001, max_depth=3, n_estimators=2048, total=60.3min\n",
      "[CV] learning_rate=0.050050000000000004, max_depth=1, n_estimators=100 \n",
      "[CV]  learning_rate=0.050050000000000004, max_depth=1, n_estimators=100, total= 1.0min\n",
      "[CV] learning_rate=0.050050000000000004, max_depth=1, n_estimators=100 \n",
      "[CV]  learning_rate=0.050050000000000004, max_depth=1, n_estimators=100, total= 1.0min\n",
      "[CV] learning_rate=0.050050000000000004, max_depth=1, n_estimators=200 \n",
      "[CV]  learning_rate=0.050050000000000004, max_depth=1, n_estimators=200, total= 2.0min\n",
      "[CV] learning_rate=0.050050000000000004, max_depth=1, n_estimators=200 \n",
      "[CV]  learning_rate=0.050050000000000004, max_depth=1, n_estimators=200, total= 1.8min\n",
      "[CV] learning_rate=0.050050000000000004, max_depth=1, n_estimators=400 \n"
     ]
    },
    {
     "name": "stdout",
     "output_type": "stream",
     "text": [
      "[CV]  learning_rate=0.050050000000000004, max_depth=1, n_estimators=400, total= 3.6min\n",
      "[CV] learning_rate=0.050050000000000004, max_depth=1, n_estimators=400 \n",
      "[CV]  learning_rate=0.050050000000000004, max_depth=1, n_estimators=400, total= 3.3min\n",
      "[CV] learning_rate=0.050050000000000004, max_depth=1, n_estimators=600 \n",
      "[CV]  learning_rate=0.050050000000000004, max_depth=1, n_estimators=600, total= 4.6min\n",
      "[CV] learning_rate=0.050050000000000004, max_depth=1, n_estimators=600 \n",
      "[CV]  learning_rate=0.050050000000000004, max_depth=1, n_estimators=600, total= 4.5min\n",
      "[CV] learning_rate=0.050050000000000004, max_depth=1, n_estimators=800 \n",
      "[CV]  learning_rate=0.050050000000000004, max_depth=1, n_estimators=800, total= 5.9min\n",
      "[CV] learning_rate=0.050050000000000004, max_depth=1, n_estimators=800 \n",
      "[CV]  learning_rate=0.050050000000000004, max_depth=1, n_estimators=800, total= 5.9min\n",
      "[CV] learning_rate=0.050050000000000004, max_depth=1, n_estimators=1000 \n",
      "[CV]  learning_rate=0.050050000000000004, max_depth=1, n_estimators=1000, total= 7.4min\n",
      "[CV] learning_rate=0.050050000000000004, max_depth=1, n_estimators=1000 \n",
      "[CV]  learning_rate=0.050050000000000004, max_depth=1, n_estimators=1000, total= 7.3min\n",
      "[CV] learning_rate=0.050050000000000004, max_depth=1, n_estimators=1500 \n",
      "[CV]  learning_rate=0.050050000000000004, max_depth=1, n_estimators=1500, total=11.0min\n",
      "[CV] learning_rate=0.050050000000000004, max_depth=1, n_estimators=1500 \n",
      "[CV]  learning_rate=0.050050000000000004, max_depth=1, n_estimators=1500, total=11.0min\n",
      "[CV] learning_rate=0.050050000000000004, max_depth=1, n_estimators=2000 \n",
      "[CV]  learning_rate=0.050050000000000004, max_depth=1, n_estimators=2000, total=14.5min\n",
      "[CV] learning_rate=0.050050000000000004, max_depth=1, n_estimators=2000 \n",
      "[CV]  learning_rate=0.050050000000000004, max_depth=1, n_estimators=2000, total=14.5min\n",
      "[CV] learning_rate=0.050050000000000004, max_depth=1, n_estimators=2048 \n",
      "[CV]  learning_rate=0.050050000000000004, max_depth=1, n_estimators=2048, total=15.0min\n",
      "[CV] learning_rate=0.050050000000000004, max_depth=1, n_estimators=2048 \n",
      "[CV]  learning_rate=0.050050000000000004, max_depth=1, n_estimators=2048, total=17.8min\n",
      "[CV] learning_rate=0.050050000000000004, max_depth=2, n_estimators=100 \n",
      "[CV]  learning_rate=0.050050000000000004, max_depth=2, n_estimators=100, total= 1.7min\n",
      "[CV] learning_rate=0.050050000000000004, max_depth=2, n_estimators=100 \n",
      "[CV]  learning_rate=0.050050000000000004, max_depth=2, n_estimators=100, total= 1.7min\n",
      "[CV] learning_rate=0.050050000000000004, max_depth=2, n_estimators=200 \n",
      "[CV]  learning_rate=0.050050000000000004, max_depth=2, n_estimators=200, total= 3.2min\n",
      "[CV] learning_rate=0.050050000000000004, max_depth=2, n_estimators=200 \n",
      "[CV]  learning_rate=0.050050000000000004, max_depth=2, n_estimators=200, total= 3.1min\n",
      "[CV] learning_rate=0.050050000000000004, max_depth=2, n_estimators=400 \n",
      "[CV]  learning_rate=0.050050000000000004, max_depth=2, n_estimators=400, total= 6.2min\n",
      "[CV] learning_rate=0.050050000000000004, max_depth=2, n_estimators=400 \n",
      "[CV]  learning_rate=0.050050000000000004, max_depth=2, n_estimators=400, total= 6.3min\n",
      "[CV] learning_rate=0.050050000000000004, max_depth=2, n_estimators=600 \n",
      "[CV]  learning_rate=0.050050000000000004, max_depth=2, n_estimators=600, total= 9.4min\n",
      "[CV] learning_rate=0.050050000000000004, max_depth=2, n_estimators=600 \n",
      "[CV]  learning_rate=0.050050000000000004, max_depth=2, n_estimators=600, total= 8.9min\n",
      "[CV] learning_rate=0.050050000000000004, max_depth=2, n_estimators=800 \n",
      "[CV]  learning_rate=0.050050000000000004, max_depth=2, n_estimators=800, total=12.6min\n",
      "[CV] learning_rate=0.050050000000000004, max_depth=2, n_estimators=800 \n",
      "[CV]  learning_rate=0.050050000000000004, max_depth=2, n_estimators=800, total=12.5min\n",
      "[CV] learning_rate=0.050050000000000004, max_depth=2, n_estimators=1000 \n",
      "[CV]  learning_rate=0.050050000000000004, max_depth=2, n_estimators=1000, total=16.0min\n",
      "[CV] learning_rate=0.050050000000000004, max_depth=2, n_estimators=1000 \n",
      "[CV]  learning_rate=0.050050000000000004, max_depth=2, n_estimators=1000, total=15.3min\n",
      "[CV] learning_rate=0.050050000000000004, max_depth=2, n_estimators=1500 \n",
      "[CV]  learning_rate=0.050050000000000004, max_depth=2, n_estimators=1500, total=21.7min\n",
      "[CV] learning_rate=0.050050000000000004, max_depth=2, n_estimators=1500 \n",
      "[CV]  learning_rate=0.050050000000000004, max_depth=2, n_estimators=1500, total=21.7min\n",
      "[CV] learning_rate=0.050050000000000004, max_depth=2, n_estimators=2000 \n",
      "[CV]  learning_rate=0.050050000000000004, max_depth=2, n_estimators=2000, total=29.1min\n",
      "[CV] learning_rate=0.050050000000000004, max_depth=2, n_estimators=2000 \n",
      "[CV]  learning_rate=0.050050000000000004, max_depth=2, n_estimators=2000, total=29.3min\n",
      "[CV] learning_rate=0.050050000000000004, max_depth=2, n_estimators=2048 \n",
      "[CV]  learning_rate=0.050050000000000004, max_depth=2, n_estimators=2048, total=29.8min\n",
      "[CV] learning_rate=0.050050000000000004, max_depth=2, n_estimators=2048 \n",
      "[CV]  learning_rate=0.050050000000000004, max_depth=2, n_estimators=2048, total=29.9min\n",
      "[CV] learning_rate=0.050050000000000004, max_depth=3, n_estimators=100 \n",
      "[CV]  learning_rate=0.050050000000000004, max_depth=3, n_estimators=100, total= 2.2min\n",
      "[CV] learning_rate=0.050050000000000004, max_depth=3, n_estimators=100 \n",
      "[CV]  learning_rate=0.050050000000000004, max_depth=3, n_estimators=100, total= 2.2min\n",
      "[CV] learning_rate=0.050050000000000004, max_depth=3, n_estimators=200 \n",
      "[CV]  learning_rate=0.050050000000000004, max_depth=3, n_estimators=200, total= 4.4min\n",
      "[CV] learning_rate=0.050050000000000004, max_depth=3, n_estimators=200 \n",
      "[CV]  learning_rate=0.050050000000000004, max_depth=3, n_estimators=200, total= 4.4min\n",
      "[CV] learning_rate=0.050050000000000004, max_depth=3, n_estimators=400 \n",
      "[CV]  learning_rate=0.050050000000000004, max_depth=3, n_estimators=400, total= 8.7min\n",
      "[CV] learning_rate=0.050050000000000004, max_depth=3, n_estimators=400 \n",
      "[CV]  learning_rate=0.050050000000000004, max_depth=3, n_estimators=400, total= 8.7min\n",
      "[CV] learning_rate=0.050050000000000004, max_depth=3, n_estimators=600 \n",
      "[CV]  learning_rate=0.050050000000000004, max_depth=3, n_estimators=600, total=13.2min\n",
      "[CV] learning_rate=0.050050000000000004, max_depth=3, n_estimators=600 \n",
      "[CV]  learning_rate=0.050050000000000004, max_depth=3, n_estimators=600, total=13.2min\n",
      "[CV] learning_rate=0.050050000000000004, max_depth=3, n_estimators=800 \n",
      "[CV]  learning_rate=0.050050000000000004, max_depth=3, n_estimators=800, total=17.5min\n",
      "[CV] learning_rate=0.050050000000000004, max_depth=3, n_estimators=800 \n",
      "[CV]  learning_rate=0.050050000000000004, max_depth=3, n_estimators=800, total=17.6min\n",
      "[CV] learning_rate=0.050050000000000004, max_depth=3, n_estimators=1000 \n",
      "[CV]  learning_rate=0.050050000000000004, max_depth=3, n_estimators=1000, total=21.9min\n",
      "[CV] learning_rate=0.050050000000000004, max_depth=3, n_estimators=1000 \n",
      "[CV]  learning_rate=0.050050000000000004, max_depth=3, n_estimators=1000, total=21.6min\n",
      "[CV] learning_rate=0.050050000000000004, max_depth=3, n_estimators=1500 \n",
      "[CV]  learning_rate=0.050050000000000004, max_depth=3, n_estimators=1500, total=32.2min\n",
      "[CV] learning_rate=0.050050000000000004, max_depth=3, n_estimators=1500 \n",
      "[CV]  learning_rate=0.050050000000000004, max_depth=3, n_estimators=1500, total=32.3min\n",
      "[CV] learning_rate=0.050050000000000004, max_depth=3, n_estimators=2000 \n",
      "[CV]  learning_rate=0.050050000000000004, max_depth=3, n_estimators=2000, total=42.5min\n",
      "[CV] learning_rate=0.050050000000000004, max_depth=3, n_estimators=2000 \n",
      "[CV]  learning_rate=0.050050000000000004, max_depth=3, n_estimators=2000, total=42.3min\n",
      "[CV] learning_rate=0.050050000000000004, max_depth=3, n_estimators=2048 \n",
      "[CV]  learning_rate=0.050050000000000004, max_depth=3, n_estimators=2048, total=43.3min\n",
      "[CV] learning_rate=0.050050000000000004, max_depth=3, n_estimators=2048 \n",
      "[CV]  learning_rate=0.050050000000000004, max_depth=3, n_estimators=2048, total=43.3min\n",
      "[CV] learning_rate=0.1, max_depth=1, n_estimators=100 ................\n",
      "[CV] . learning_rate=0.1, max_depth=1, n_estimators=100, total=  44.4s\n",
      "[CV] learning_rate=0.1, max_depth=1, n_estimators=100 ................\n",
      "[CV] . learning_rate=0.1, max_depth=1, n_estimators=100, total=  44.1s\n",
      "[CV] learning_rate=0.1, max_depth=1, n_estimators=200 ................\n"
     ]
    },
    {
     "name": "stdout",
     "output_type": "stream",
     "text": [
      "[CV] . learning_rate=0.1, max_depth=1, n_estimators=200, total= 1.5min\n",
      "[CV] learning_rate=0.1, max_depth=1, n_estimators=200 ................\n",
      "[CV] . learning_rate=0.1, max_depth=1, n_estimators=200, total= 1.5min\n",
      "[CV] learning_rate=0.1, max_depth=1, n_estimators=400 ................\n",
      "[CV] . learning_rate=0.1, max_depth=1, n_estimators=400, total= 2.9min\n",
      "[CV] learning_rate=0.1, max_depth=1, n_estimators=400 ................\n",
      "[CV] . learning_rate=0.1, max_depth=1, n_estimators=400, total= 2.9min\n",
      "[CV] learning_rate=0.1, max_depth=1, n_estimators=600 ................\n",
      "[CV] . learning_rate=0.1, max_depth=1, n_estimators=600, total= 4.3min\n",
      "[CV] learning_rate=0.1, max_depth=1, n_estimators=600 ................\n",
      "[CV] . learning_rate=0.1, max_depth=1, n_estimators=600, total= 4.3min\n",
      "[CV] learning_rate=0.1, max_depth=1, n_estimators=800 ................\n",
      "[CV] . learning_rate=0.1, max_depth=1, n_estimators=800, total= 5.8min\n",
      "[CV] learning_rate=0.1, max_depth=1, n_estimators=800 ................\n",
      "[CV] . learning_rate=0.1, max_depth=1, n_estimators=800, total= 5.8min\n",
      "[CV] learning_rate=0.1, max_depth=1, n_estimators=1000 ...............\n",
      "[CV]  learning_rate=0.1, max_depth=1, n_estimators=1000, total= 7.2min\n",
      "[CV] learning_rate=0.1, max_depth=1, n_estimators=1000 ...............\n",
      "[CV]  learning_rate=0.1, max_depth=1, n_estimators=1000, total= 7.3min\n",
      "[CV] learning_rate=0.1, max_depth=1, n_estimators=1500 ...............\n",
      "[CV]  learning_rate=0.1, max_depth=1, n_estimators=1500, total=10.8min\n",
      "[CV] learning_rate=0.1, max_depth=1, n_estimators=1500 ...............\n",
      "[CV]  learning_rate=0.1, max_depth=1, n_estimators=1500, total=10.8min\n",
      "[CV] learning_rate=0.1, max_depth=1, n_estimators=2000 ...............\n",
      "[CV]  learning_rate=0.1, max_depth=1, n_estimators=2000, total=14.4min\n",
      "[CV] learning_rate=0.1, max_depth=1, n_estimators=2000 ...............\n",
      "[CV]  learning_rate=0.1, max_depth=1, n_estimators=2000, total=14.4min\n",
      "[CV] learning_rate=0.1, max_depth=1, n_estimators=2048 ...............\n",
      "[CV]  learning_rate=0.1, max_depth=1, n_estimators=2048, total=14.7min\n",
      "[CV] learning_rate=0.1, max_depth=1, n_estimators=2048 ...............\n",
      "[CV]  learning_rate=0.1, max_depth=1, n_estimators=2048, total=14.8min\n",
      "[CV] learning_rate=0.1, max_depth=2, n_estimators=100 ................\n",
      "[CV] . learning_rate=0.1, max_depth=2, n_estimators=100, total= 1.4min\n",
      "[CV] learning_rate=0.1, max_depth=2, n_estimators=100 ................\n",
      "[CV] . learning_rate=0.1, max_depth=2, n_estimators=100, total= 1.4min\n",
      "[CV] learning_rate=0.1, max_depth=2, n_estimators=200 ................\n",
      "[CV] . learning_rate=0.1, max_depth=2, n_estimators=200, total= 2.8min\n",
      "[CV] learning_rate=0.1, max_depth=2, n_estimators=200 ................\n",
      "[CV] . learning_rate=0.1, max_depth=2, n_estimators=200, total= 2.8min\n",
      "[CV] learning_rate=0.1, max_depth=2, n_estimators=400 ................\n",
      "[CV] . learning_rate=0.1, max_depth=2, n_estimators=400, total= 5.7min\n",
      "[CV] learning_rate=0.1, max_depth=2, n_estimators=400 ................\n",
      "[CV] . learning_rate=0.1, max_depth=2, n_estimators=400, total= 5.7min\n",
      "[CV] learning_rate=0.1, max_depth=2, n_estimators=600 ................\n",
      "[CV] . learning_rate=0.1, max_depth=2, n_estimators=600, total= 8.5min\n",
      "[CV] learning_rate=0.1, max_depth=2, n_estimators=600 ................\n",
      "[CV] . learning_rate=0.1, max_depth=2, n_estimators=600, total= 8.5min\n",
      "[CV] learning_rate=0.1, max_depth=2, n_estimators=800 ................\n",
      "[CV] . learning_rate=0.1, max_depth=2, n_estimators=800, total=11.3min\n",
      "[CV] learning_rate=0.1, max_depth=2, n_estimators=800 ................\n",
      "[CV] . learning_rate=0.1, max_depth=2, n_estimators=800, total=11.4min\n",
      "[CV] learning_rate=0.1, max_depth=2, n_estimators=1000 ...............\n",
      "[CV]  learning_rate=0.1, max_depth=2, n_estimators=1000, total=14.3min\n",
      "[CV] learning_rate=0.1, max_depth=2, n_estimators=1000 ...............\n",
      "[CV]  learning_rate=0.1, max_depth=2, n_estimators=1000, total=14.3min\n",
      "[CV] learning_rate=0.1, max_depth=2, n_estimators=1500 ...............\n",
      "[CV]  learning_rate=0.1, max_depth=2, n_estimators=1500, total=21.5min\n",
      "[CV] learning_rate=0.1, max_depth=2, n_estimators=1500 ...............\n",
      "[CV]  learning_rate=0.1, max_depth=2, n_estimators=1500, total=21.5min\n",
      "[CV] learning_rate=0.1, max_depth=2, n_estimators=2000 ...............\n",
      "[CV]  learning_rate=0.1, max_depth=2, n_estimators=2000, total=28.6min\n",
      "[CV] learning_rate=0.1, max_depth=2, n_estimators=2000 ...............\n",
      "[CV]  learning_rate=0.1, max_depth=2, n_estimators=2000, total=28.7min\n",
      "[CV] learning_rate=0.1, max_depth=2, n_estimators=2048 ...............\n",
      "[CV]  learning_rate=0.1, max_depth=2, n_estimators=2048, total=29.5min\n",
      "[CV] learning_rate=0.1, max_depth=2, n_estimators=2048 ...............\n",
      "[CV]  learning_rate=0.1, max_depth=2, n_estimators=2048, total=29.6min\n",
      "[CV] learning_rate=0.1, max_depth=3, n_estimators=100 ................\n",
      "[CV] . learning_rate=0.1, max_depth=3, n_estimators=100, total= 2.2min\n",
      "[CV] learning_rate=0.1, max_depth=3, n_estimators=100 ................\n",
      "[CV] . learning_rate=0.1, max_depth=3, n_estimators=100, total= 2.2min\n",
      "[CV] learning_rate=0.1, max_depth=3, n_estimators=200 ................\n",
      "[CV] . learning_rate=0.1, max_depth=3, n_estimators=200, total= 4.3min\n",
      "[CV] learning_rate=0.1, max_depth=3, n_estimators=200 ................\n",
      "[CV] . learning_rate=0.1, max_depth=3, n_estimators=200, total= 4.4min\n",
      "[CV] learning_rate=0.1, max_depth=3, n_estimators=400 ................\n",
      "[CV] . learning_rate=0.1, max_depth=3, n_estimators=400, total= 8.8min\n",
      "[CV] learning_rate=0.1, max_depth=3, n_estimators=400 ................\n",
      "[CV] . learning_rate=0.1, max_depth=3, n_estimators=400, total= 8.7min\n",
      "[CV] learning_rate=0.1, max_depth=3, n_estimators=600 ................\n",
      "[CV] . learning_rate=0.1, max_depth=3, n_estimators=600, total=13.0min\n",
      "[CV] learning_rate=0.1, max_depth=3, n_estimators=600 ................\n",
      "[CV] . learning_rate=0.1, max_depth=3, n_estimators=600, total=16.1min\n",
      "[CV] learning_rate=0.1, max_depth=3, n_estimators=800 ................\n",
      "[CV] . learning_rate=0.1, max_depth=3, n_estimators=800, total=22.9min\n",
      "[CV] learning_rate=0.1, max_depth=3, n_estimators=800 ................\n",
      "[CV] . learning_rate=0.1, max_depth=3, n_estimators=800, total=21.8min\n",
      "[CV] learning_rate=0.1, max_depth=3, n_estimators=1000 ...............\n",
      "[CV]  learning_rate=0.1, max_depth=3, n_estimators=1000, total=26.4min\n",
      "[CV] learning_rate=0.1, max_depth=3, n_estimators=1000 ...............\n",
      "[CV]  learning_rate=0.1, max_depth=3, n_estimators=1000, total=34.6min\n",
      "[CV] learning_rate=0.1, max_depth=3, n_estimators=1500 ...............\n",
      "[CV]  learning_rate=0.1, max_depth=3, n_estimators=1500, total=48.6min\n",
      "[CV] learning_rate=0.1, max_depth=3, n_estimators=1500 ...............\n",
      "[CV]  learning_rate=0.1, max_depth=3, n_estimators=1500, total=51.3min\n",
      "[CV] learning_rate=0.1, max_depth=3, n_estimators=2000 ...............\n",
      "[CV]  learning_rate=0.1, max_depth=3, n_estimators=2000, total=68.9min\n",
      "[CV] learning_rate=0.1, max_depth=3, n_estimators=2000 ...............\n",
      "[CV]  learning_rate=0.1, max_depth=3, n_estimators=2000, total=63.2min\n",
      "[CV] learning_rate=0.1, max_depth=3, n_estimators=2048 ...............\n",
      "[CV]  learning_rate=0.1, max_depth=3, n_estimators=2048, total=64.9min\n",
      "[CV] learning_rate=0.1, max_depth=3, n_estimators=2048 ...............\n",
      "[CV]  learning_rate=0.1, max_depth=3, n_estimators=2048, total=55.3min\n"
     ]
    },
    {
     "name": "stderr",
     "output_type": "stream",
     "text": [
      "[Parallel(n_jobs=1)]: Done 162 out of 162 | elapsed: 2519.2min finished\n"
     ]
    },
    {
     "name": "stdout",
     "output_type": "stream",
     "text": [
      "152312.91701316833\n"
     ]
    }
   ],
   "source": [
    "since = time.time()\n",
    "grid_result=grid.fit(X_train,Y_train)\n",
    "print(time.time() - since)"
   ]
  },
  {
   "cell_type": "code",
   "execution_count": 10,
   "id": "a2d6275b",
   "metadata": {},
   "outputs": [
    {
     "data": {
      "text/plain": [
       "(2538.0, 32.91701316833496)"
      ]
     },
     "execution_count": 10,
     "metadata": {},
     "output_type": "execute_result"
    }
   ],
   "source": [
    "152312.91701316833 // 60, 152312.91701316833 % 60"
   ]
  },
  {
   "cell_type": "code",
   "execution_count": 7,
   "id": "27a18ac7",
   "metadata": {},
   "outputs": [
    {
     "data": {
      "text/plain": [
       "{'learning_rate': 0.050050000000000004, 'max_depth': 2, 'n_estimators': 600}"
      ]
     },
     "execution_count": 7,
     "metadata": {},
     "output_type": "execute_result"
    }
   ],
   "source": [
    "grid_result.best_params_"
   ]
  },
  {
   "cell_type": "code",
   "execution_count": 8,
   "id": "9ef7382c",
   "metadata": {},
   "outputs": [
    {
     "data": {
      "text/plain": [
       "0.9992626663389628"
      ]
     },
     "execution_count": 8,
     "metadata": {},
     "output_type": "execute_result"
    }
   ],
   "source": [
    "model = GradientBoostingClassifier(learning_rate=0.050050000000000004, max_depth= 2, n_estimators=600)\n",
    "model.fit(X_train, Y_train)\n",
    "model.score(X_test, Y_test)"
   ]
  },
  {
   "cell_type": "code",
   "execution_count": 9,
   "id": "0802e373",
   "metadata": {},
   "outputs": [
    {
     "data": {
      "text/plain": [
       "0.7326732673267327"
      ]
     },
     "execution_count": 9,
     "metadata": {},
     "output_type": "execute_result"
    }
   ],
   "source": [
    "from sklearn.metrics import recall_score\n",
    "\n",
    "y_pred = model.predict(X_test)\n",
    "recall_score(Y_test, y_pred)"
   ]
  }
 ],
 "metadata": {
  "kernelspec": {
   "display_name": "Python 3",
   "language": "python",
   "name": "python3"
  },
  "language_info": {
   "codemirror_mode": {
    "name": "ipython",
    "version": 3
   },
   "file_extension": ".py",
   "mimetype": "text/x-python",
   "name": "python",
   "nbconvert_exporter": "python",
   "pygments_lexer": "ipython3",
   "version": "3.8.8"
  },
  "toc": {
   "base_numbering": 1,
   "nav_menu": {},
   "number_sections": true,
   "sideBar": true,
   "skip_h1_title": false,
   "title_cell": "Table of Contents",
   "title_sidebar": "Contents",
   "toc_cell": false,
   "toc_position": {},
   "toc_section_display": true,
   "toc_window_display": false
  },
  "varInspector": {
   "cols": {
    "lenName": 16,
    "lenType": 16,
    "lenVar": 40
   },
   "kernels_config": {
    "python": {
     "delete_cmd_postfix": "",
     "delete_cmd_prefix": "del ",
     "library": "var_list.py",
     "varRefreshCmd": "print(var_dic_list())"
    },
    "r": {
     "delete_cmd_postfix": ") ",
     "delete_cmd_prefix": "rm(",
     "library": "var_list.r",
     "varRefreshCmd": "cat(var_dic_list()) "
    }
   },
   "types_to_exclude": [
    "module",
    "function",
    "builtin_function_or_method",
    "instance",
    "_Feature"
   ],
   "window_display": false
  }
 },
 "nbformat": 4,
 "nbformat_minor": 5
}
