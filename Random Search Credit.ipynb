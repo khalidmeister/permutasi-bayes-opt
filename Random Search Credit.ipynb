{
 "cells": [
  {
   "cell_type": "code",
   "execution_count": 5,
   "id": "ad6fef0c",
   "metadata": {
    "ExecuteTime": {
     "end_time": "2021-07-17T09:51:08.710381Z",
     "start_time": "2021-07-17T09:51:08.697341Z"
    }
   },
   "outputs": [],
   "source": [
    "import numpy as np\n",
    "import pandas as pd\n",
    "from sklearn.model_selection import GridSearchCV, RandomizedSearchCV\n",
    "from sklearn.model_selection import train_test_split\n",
    "from sklearn.ensemble import GradientBoostingClassifier\n",
    "from sklearn.metrics import recall_score"
   ]
  },
  {
   "cell_type": "code",
   "execution_count": 2,
   "id": "4cd8af7b",
   "metadata": {
    "ExecuteTime": {
     "end_time": "2021-07-17T09:50:29.432834Z",
     "start_time": "2021-07-17T09:50:27.237047Z"
    }
   },
   "outputs": [],
   "source": [
    "data=pd.read_csv('Creditcard.csv')"
   ]
  },
  {
   "cell_type": "code",
   "execution_count": 3,
   "id": "f18f9693",
   "metadata": {
    "ExecuteTime": {
     "end_time": "2021-07-17T09:50:29.622843Z",
     "start_time": "2021-07-17T09:50:29.586466Z"
    }
   },
   "outputs": [],
   "source": [
    "X,Y=data.iloc[:,:-1],data.iloc[:,-1]"
   ]
  },
  {
   "cell_type": "code",
   "execution_count": 4,
   "id": "4c512285",
   "metadata": {
    "ExecuteTime": {
     "end_time": "2021-07-17T09:50:31.838058Z",
     "start_time": "2021-07-17T09:50:31.745932Z"
    }
   },
   "outputs": [],
   "source": [
    "X_train,X_test,Y_train,Y_test=train_test_split(X,Y,test_size=0.2,random_state=0)"
   ]
  },
  {
   "cell_type": "code",
   "execution_count": 5,
   "id": "4a3affca",
   "metadata": {
    "ExecuteTime": {
     "end_time": "2021-07-16T15:23:46.489922Z",
     "start_time": "2021-07-16T15:23:46.480923Z"
    }
   },
   "outputs": [],
   "source": [
    "learning_rate=[x for x in np.linspace(start=0.0001,stop=0.1,num=3)]\n",
    "n_estimators=[100, 200, 400, 600, 800, 1000, 1500, 2000, 2048]\n",
    "params={'learning_rate':learning_rate,'max_depth':[1,2,3],'n_estimators':n_estimators}\n",
    "random=RandomizedSearchCV(GradientBoostingClassifier(),param_distributions=params,cv=2,scoring='recall',verbose=2,n_iter=10)"
   ]
  },
  {
   "cell_type": "code",
   "execution_count": 6,
   "id": "b3ecfa17",
   "metadata": {
    "ExecuteTime": {
     "end_time": "2021-07-16T17:47:15.550754Z",
     "start_time": "2021-07-16T15:23:55.566062Z"
    }
   },
   "outputs": [
    {
     "name": "stdout",
     "output_type": "stream",
     "text": [
      "Fitting 2 folds for each of 10 candidates, totalling 20 fits\n",
      "[CV] END learning_rate=0.050050000000000004, max_depth=3, n_estimators=100; total time= 2.0min\n",
      "[CV] END learning_rate=0.050050000000000004, max_depth=3, n_estimators=100; total time= 2.0min\n",
      "[CV] END learning_rate=0.0001, max_depth=1, n_estimators=100; total time=  41.3s\n",
      "[CV] END learning_rate=0.0001, max_depth=1, n_estimators=100; total time=  41.1s\n",
      "[CV] END learning_rate=0.050050000000000004, max_depth=2, n_estimators=800; total time=11.0min\n",
      "[CV] END learning_rate=0.050050000000000004, max_depth=2, n_estimators=800; total time=11.1min\n",
      "[CV] END learning_rate=0.050050000000000004, max_depth=3, n_estimators=1000; total time=20.3min\n",
      "[CV] END learning_rate=0.050050000000000004, max_depth=3, n_estimators=1000; total time=20.1min\n",
      "[CV] END learning_rate=0.050050000000000004, max_depth=2, n_estimators=600; total time= 8.0min\n",
      "[CV] END learning_rate=0.050050000000000004, max_depth=2, n_estimators=600; total time= 7.9min\n",
      "[CV] END learning_rate=0.050050000000000004, max_depth=1, n_estimators=200; total time= 1.4min\n",
      "[CV] END learning_rate=0.050050000000000004, max_depth=1, n_estimators=200; total time= 1.4min\n",
      "[CV] END learning_rate=0.050050000000000004, max_depth=1, n_estimators=600; total time= 4.2min\n",
      "[CV] END learning_rate=0.050050000000000004, max_depth=1, n_estimators=600; total time= 4.2min\n",
      "[CV] END learning_rate=0.0001, max_depth=2, n_estimators=100; total time= 1.4min\n",
      "[CV] END learning_rate=0.0001, max_depth=2, n_estimators=100; total time= 1.4min\n",
      "[CV] END learning_rate=0.050050000000000004, max_depth=2, n_estimators=100; total time= 1.4min\n",
      "[CV] END learning_rate=0.050050000000000004, max_depth=2, n_estimators=100; total time= 1.3min\n",
      "[CV] END ..learning_rate=0.1, max_depth=1, n_estimators=1500; total time=10.2min\n",
      "[CV] END ..learning_rate=0.1, max_depth=1, n_estimators=1500; total time=10.2min\n"
     ]
    }
   ],
   "source": [
    "random_result=random.fit(X_train,Y_train)"
   ]
  },
  {
   "cell_type": "code",
   "execution_count": 7,
   "id": "30fcb67a",
   "metadata": {
    "ExecuteTime": {
     "end_time": "2021-07-16T18:02:59.172319Z",
     "start_time": "2021-07-16T18:02:59.153321Z"
    }
   },
   "outputs": [
    {
     "data": {
      "text/plain": [
       "{'n_estimators': 800, 'max_depth': 2, 'learning_rate': 0.050050000000000004}"
      ]
     },
     "execution_count": 7,
     "metadata": {},
     "output_type": "execute_result"
    }
   ],
   "source": [
    "random.best_params_"
   ]
  },
  {
   "cell_type": "code",
   "execution_count": 8,
   "id": "43e6e15b",
   "metadata": {
    "ExecuteTime": {
     "end_time": "2021-07-16T18:04:01.520525Z",
     "start_time": "2021-07-16T18:04:01.503489Z"
    }
   },
   "outputs": [
    {
     "name": "stdout",
     "output_type": "stream",
     "text": [
      "Best Score: 0.710989010989011\n",
      "Best Hyperparameters: {'n_estimators': 800, 'max_depth': 2, 'learning_rate': 0.050050000000000004}\n"
     ]
    }
   ],
   "source": [
    "print('Best Score: %s' % random_result.best_score_)\n",
    "print('Best Hyperparameters: %s' % random_result.best_params_)"
   ]
  },
  {
   "cell_type": "code",
   "execution_count": 6,
   "id": "40c6890b",
   "metadata": {
    "ExecuteTime": {
     "end_time": "2021-07-17T10:14:54.431794Z",
     "start_time": "2021-07-17T09:51:57.274524Z"
    }
   },
   "outputs": [
    {
     "data": {
      "text/plain": [
       "GradientBoostingClassifier(learning_rate=0.050050000000000004, max_depth=2,\n",
       "                           n_estimators=800)"
      ]
     },
     "execution_count": 6,
     "metadata": {},
     "output_type": "execute_result"
    }
   ],
   "source": [
    "model=GradientBoostingClassifier(learning_rate=0.050050000000000004,max_depth=2,n_estimators=800)\n",
    "model.fit(X_train,Y_train)"
   ]
  },
  {
   "cell_type": "code",
   "execution_count": 7,
   "id": "a1159517",
   "metadata": {
    "ExecuteTime": {
     "end_time": "2021-07-17T10:17:42.788039Z",
     "start_time": "2021-07-17T10:17:42.464040Z"
    }
   },
   "outputs": [
    {
     "data": {
      "text/plain": [
       "0.7326732673267327"
      ]
     },
     "execution_count": 7,
     "metadata": {},
     "output_type": "execute_result"
    }
   ],
   "source": [
    "Y_pred=model.predict(X_test)\n",
    "recall_score(Y_test,Y_pred)"
   ]
  }
 ],
 "metadata": {
  "kernelspec": {
   "display_name": "Python 3",
   "language": "python",
   "name": "python3"
  },
  "language_info": {
   "codemirror_mode": {
    "name": "ipython",
    "version": 3
   },
   "file_extension": ".py",
   "mimetype": "text/x-python",
   "name": "python",
   "nbconvert_exporter": "python",
   "pygments_lexer": "ipython3",
   "version": "3.7.6"
  },
  "toc": {
   "base_numbering": 1,
   "nav_menu": {},
   "number_sections": true,
   "sideBar": true,
   "skip_h1_title": false,
   "title_cell": "Table of Contents",
   "title_sidebar": "Contents",
   "toc_cell": false,
   "toc_position": {},
   "toc_section_display": true,
   "toc_window_display": false
  },
  "varInspector": {
   "cols": {
    "lenName": 16,
    "lenType": 16,
    "lenVar": 40
   },
   "kernels_config": {
    "python": {
     "delete_cmd_postfix": "",
     "delete_cmd_prefix": "del ",
     "library": "var_list.py",
     "varRefreshCmd": "print(var_dic_list())"
    },
    "r": {
     "delete_cmd_postfix": ") ",
     "delete_cmd_prefix": "rm(",
     "library": "var_list.r",
     "varRefreshCmd": "cat(var_dic_list()) "
    }
   },
   "types_to_exclude": [
    "module",
    "function",
    "builtin_function_or_method",
    "instance",
    "_Feature"
   ],
   "window_display": false
  }
 },
 "nbformat": 4,
 "nbformat_minor": 5
}
